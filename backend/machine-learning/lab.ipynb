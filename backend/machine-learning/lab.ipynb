{
 "cells": [
  {
   "cell_type": "code",
   "execution_count": null,
   "metadata": {},
   "outputs": [],
   "source": [
    "from utils import download_and_extract_dataset\n",
    "\n",
    "dataset_url = \"https://drive.google.com/uc?id=1XYZ12345\"\n",
    "download_and_extract_dataset(dataset_url)\n"
   ]
  }
 ],
 "metadata": {
  "kernelspec": {
   "display_name": "aienv",
   "language": "python",
   "name": "python3"
  },
  "language_info": {
   "name": "python",
   "version": "3.12.9"
  }
 },
 "nbformat": 4,
 "nbformat_minor": 2
}
